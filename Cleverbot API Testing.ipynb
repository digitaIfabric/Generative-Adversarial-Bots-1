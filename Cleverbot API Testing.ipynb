{
 "cells": [
  {
   "cell_type": "code",
   "execution_count": 1,
   "metadata": {
    "collapsed": true
   },
   "outputs": [],
   "source": [
    "import requests"
   ]
  },
  {
   "cell_type": "code",
   "execution_count": 35,
   "metadata": {
    "collapsed": false
   },
   "outputs": [],
   "source": [
    "api_key = \"CC4qruTTaiN1tTMKWM4VYhuuc4w\"\n",
    "text_input = \"Hey what's up\"\n",
    "cleverbot_state = \"\"\n",
    "link = f\"http://www.cleverbot.com/getreply?key={api_key}&input={text_input}&cs={cleverbot_state}\""
   ]
  },
  {
   "cell_type": "code",
   "execution_count": 17,
   "metadata": {
    "collapsed": true
   },
   "outputs": [],
   "source": [
    "response = requests.get(link)"
   ]
  },
  {
   "cell_type": "code",
   "execution_count": 32,
   "metadata": {
    "collapsed": false
   },
   "outputs": [],
   "source": [
    "res_json = response.json()  # Just like a Python dictionary\n",
    "\n",
    "new_cs = res_json['cs']\n",
    "output = res_json['output']"
   ]
  },
  {
   "cell_type": "code",
   "execution_count": 36,
   "metadata": {
    "collapsed": false
   },
   "outputs": [
    {
     "name": "stdout",
     "output_type": "stream",
     "text": [
      "MXYxCTh2MQlBdkFZR1JVQ1JYMTgJMUZ2MTUwNjgwOTUxMQk2NHZIZXkgd2hhdCdzIHVwLgk2NGlOb3RoaW5nIG11Y2guLi4J\n",
      "Nothing much...\n"
     ]
    }
   ],
   "source": [
    "print(new_cs)\n",
    "print(output)"
   ]
  },
  {
   "cell_type": "code",
   "execution_count": 31,
   "metadata": {
    "collapsed": true
   },
   "outputs": [
    {
     "data": {
      "text/plain": [
       "{'CSRES30': '',\n",
       " 'accuracy': '',\n",
       " 'callback': '',\n",
       " 'clever_accuracy': '24',\n",
       " 'clever_match': '',\n",
       " 'clever_output': 'Nothing much...',\n",
       " 'conversation_id': 'AYGRUCRX18',\n",
       " 'cs': 'MXYxCTh2MQlBdkFZR1JVQ1JYMTgJMUZ2MTUwNjgwOTUxMQk2NHZIZXkgd2hhdCdzIHVwLgk2NGlOb3RoaW5nIG11Y2guLi4J',\n",
       " 'database_version': '3167',\n",
       " 'emotion': '',\n",
       " 'emotion_degree': '',\n",
       " 'emotion_tone': '',\n",
       " 'emotion_values': '',\n",
       " 'errorline': 'Init:9000000,Full:10000,Other:198,Row:120,Score:2423,Id:302397805,Len:15,',\n",
       " 'filtered_input': \"Hey what's up.\",\n",
       " 'filtered_input_other': '',\n",
       " 'input': \"Hey what's up.\",\n",
       " 'input_label': '',\n",
       " 'input_other': '',\n",
       " 'interaction_1': \"Hey what's up.\",\n",
       " 'interaction_10': '',\n",
       " 'interaction_11': '',\n",
       " 'interaction_12': '',\n",
       " 'interaction_13': '',\n",
       " 'interaction_14': '',\n",
       " 'interaction_15': '',\n",
       " 'interaction_16': '',\n",
       " 'interaction_17': '',\n",
       " 'interaction_18': '',\n",
       " 'interaction_19': '',\n",
       " 'interaction_1_other': 'Nothing much...',\n",
       " 'interaction_2': '',\n",
       " 'interaction_20': '',\n",
       " 'interaction_21': '',\n",
       " 'interaction_22': '',\n",
       " 'interaction_23': '',\n",
       " 'interaction_24': '',\n",
       " 'interaction_25': '',\n",
       " 'interaction_26': '',\n",
       " 'interaction_27': '',\n",
       " 'interaction_28': '',\n",
       " 'interaction_29': '',\n",
       " 'interaction_3': '',\n",
       " 'interaction_30': '',\n",
       " 'interaction_31': '',\n",
       " 'interaction_32': '',\n",
       " 'interaction_33': '',\n",
       " 'interaction_34': '',\n",
       " 'interaction_35': '',\n",
       " 'interaction_36': '',\n",
       " 'interaction_37': '',\n",
       " 'interaction_38': '',\n",
       " 'interaction_39': '',\n",
       " 'interaction_4': '',\n",
       " 'interaction_40': '',\n",
       " 'interaction_41': '',\n",
       " 'interaction_42': '',\n",
       " 'interaction_43': '',\n",
       " 'interaction_44': '',\n",
       " 'interaction_45': '',\n",
       " 'interaction_46': '',\n",
       " 'interaction_47': '',\n",
       " 'interaction_48': '',\n",
       " 'interaction_49': '',\n",
       " 'interaction_5': '',\n",
       " 'interaction_50': '',\n",
       " 'interaction_6': '',\n",
       " 'interaction_7': '',\n",
       " 'interaction_8': '',\n",
       " 'interaction_9': '',\n",
       " 'interaction_count': '1',\n",
       " 'output': 'Nothing much...',\n",
       " 'output_label': 'welcome',\n",
       " 'predicted_input': '',\n",
       " 'random_number': '719',\n",
       " 'reaction': '',\n",
       " 'reaction_degree': '',\n",
       " 'reaction_tone': '',\n",
       " 'reaction_values': '',\n",
       " 'software_version': '3233',\n",
       " 'time_day': '30',\n",
       " 'time_day_of_week': '5',\n",
       " 'time_elapsed': '0',\n",
       " 'time_hour': '23',\n",
       " 'time_minute': '11',\n",
       " 'time_month': '9',\n",
       " 'time_second': '51',\n",
       " 'time_taken': '159',\n",
       " 'time_year': '2017'}"
      ]
     },
     "execution_count": 31,
     "metadata": {},
     "output_type": "execute_result"
    }
   ],
   "source": [
    "res_json"
   ]
  },
  {
   "cell_type": "code",
   "execution_count": null,
   "metadata": {
    "collapsed": true
   },
   "outputs": [],
   "source": []
  }
 ],
 "metadata": {
  "kernelspec": {
   "display_name": "Python 3",
   "language": "python",
   "name": "python3"
  },
  "language_info": {
   "codemirror_mode": {
    "name": "ipython",
    "version": 3
   },
   "file_extension": ".py",
   "mimetype": "text/x-python",
   "name": "python",
   "nbconvert_exporter": "python",
   "pygments_lexer": "ipython3",
   "version": "3.6.0"
  }
 },
 "nbformat": 4,
 "nbformat_minor": 2
}
