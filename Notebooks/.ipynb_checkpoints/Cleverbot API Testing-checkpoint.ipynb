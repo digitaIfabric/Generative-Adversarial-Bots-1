{
 "cells": [
  {
   "cell_type": "code",
   "execution_count": 191,
   "metadata": {
    "collapsed": true
   },
   "outputs": [],
   "source": [
    "import csv\n",
    "import requests\n",
    "from chatterbot import ChatBot\n",
    "from chatterbot.trainers import ChatterBotCorpusTrainer"
   ]
  },
  {
   "cell_type": "code",
   "execution_count": 154,
   "metadata": {
    "collapsed": false
   },
   "outputs": [],
   "source": [
    "def interact_cleverbot(text_input, cleverbot_state=\"\"):\n",
    "    api_key = \"CC4qruTTaiN1tTMKWM4VYhuuc4w\"\n",
    "    link = \"http://www.cleverbot.com/getreply?key={}&input={}&cs={}\".format(api_key, text_input, cleverbot_state)\n",
    "    response = requests.get(link)\n",
    "\n",
    "    res_json = response.json()  # Just like a Python dictionary\n",
    "    new_cs = res_json['cs']\n",
    "    output = res_json['output']\n",
    "    \n",
    "    return output, new_cs, res_json"
   ]
  },
  {
   "cell_type": "code",
   "execution_count": 70,
   "metadata": {
    "collapsed": false
   },
   "outputs": [],
   "source": [
    "# Initialize a vanilla chatterbot\n",
    "vanilla_chatterbot = ChatBot(\n",
    "    \"Vanilla\",\n",
    "    storage_adapter='chatterbot.storage.SQLStorageAdapter',\n",
    "    logic_adapters=[\n",
    "        \"chatterbot.logic.MathematicalEvaluation\",\n",
    "        \"chatterbot.logic.TimeLogicAdapter\",\n",
    "        \"chatterbot.logic.BestMatch\"\n",
    "    ],\n",
    "    database='./vanilla_database.sqlite3'    \n",
    ")\n",
    "\n",
    "vancha = vanilla_chatterbot  # Giving a friendly-sounding alias"
   ]
  },
  {
   "cell_type": "code",
   "execution_count": 71,
   "metadata": {
    "collapsed": true
   },
   "outputs": [
    {
     "name": "stdout",
     "output_type": "stream",
     "text": [
      "ai.yml Training: [####################] 100%\n",
      "botprofile.yml Training: [####################] 100%\n",
      "computers.yml Training: [####################] 100%\n",
      "conversations.yml Training: [####################] 100%\n",
      "drugs.yml Training: [####################] 100%\n",
      "emotion.yml Training: [####################] 100%\n",
      "food.yml Training: [####################] 100%\n",
      "gossip.yml Training: [####################] 100%\n",
      "greetings.yml Training: [####################] 100%\n",
      "history.yml Training: [####################] 100%\n",
      "humor.yml Training: [####################] 100%\n",
      "literature.yml Training: [####################] 100%\n",
      "money.yml Training: [####################] 100%\n",
      "movies.yml Training: [####################] 100%\n",
      "politics.yml Training: [####################] 100%\n",
      "psychology.yml Training: [####################] 100%\n",
      "science.yml Training: [####################] 100%\n",
      "sports.yml Training: [####################] 100%\n",
      "trivia.yml Training: [####################] 100%\n"
     ]
    }
   ],
   "source": [
    "# Training our Vanilla chatterbot with the default Corpus Trainer\n",
    "vancha.set_trainer(ChatterBotCorpusTrainer)\n",
    "\n",
    "vancha.train(\n",
    "    \"chatterbot.corpus.english\"\n",
    ")"
   ]
  },
  {
   "cell_type": "code",
   "execution_count": 140,
   "metadata": {
    "collapsed": true
   },
   "outputs": [],
   "source": [
    "# read only version of vanilla chatterbot\n",
    "read_only_vanilla_chatterbot = ChatBot(\n",
    "    \"Read-Only Vanilla\",\n",
    "    storage_adapter='chatterbot.storage.SQLStorageAdapter',\n",
    "    logic_adapters=[\n",
    "        \"chatterbot.logic.MathematicalEvaluation\",\n",
    "        \"chatterbot.logic.TimeLogicAdapter\",\n",
    "        \"chatterbot.logic.BestMatch\"\n",
    "    ],\n",
    "    database='./read_only_vanilla_database.sqlite3'\n",
    ")\n",
    "\n",
    "recha = read_only_vanilla_chatterbot"
   ]
  },
  {
   "cell_type": "code",
   "execution_count": 141,
   "metadata": {
    "collapsed": true
   },
   "outputs": [
    {
     "name": "stdout",
     "output_type": "stream",
     "text": [
      "ai.yml Training: [####################] 100%\n",
      "botprofile.yml Training: [####################] 100%\n",
      "computers.yml Training: [####################] 100%\n",
      "conversations.yml Training: [####################] 100%\n",
      "drugs.yml Training: [####################] 100%\n",
      "emotion.yml Training: [####################] 100%\n",
      "food.yml Training: [####################] 100%\n",
      "gossip.yml Training: [####################] 100%\n",
      "greetings.yml Training: [####################] 100%\n",
      "history.yml Training: [####################] 100%\n",
      "humor.yml Training: [####################] 100%\n",
      "literature.yml Training: [####################] 100%\n",
      "money.yml Training: [####################] 100%\n",
      "movies.yml Training: [####################] 100%\n",
      "politics.yml Training: [####################] 100%\n",
      "psychology.yml Training: [####################] 100%\n",
      "science.yml Training: [####################] 100%\n",
      "sports.yml Training: [####################] 100%\n",
      "trivia.yml Training: [####################] 100%\n"
     ]
    }
   ],
   "source": [
    "# Training Recha\n",
    "recha.set_trainer(ChatterBotCorpusTrainer)\n",
    "recha.train(\n",
    "    \"chatterbot.corpus.english\"\n",
    ")"
   ]
  },
  {
   "cell_type": "code",
   "execution_count": 148,
   "metadata": {
    "collapsed": false
   },
   "outputs": [
    {
     "name": "stdout",
     "output_type": "stream",
     "text": [
      "True\n"
     ]
    }
   ],
   "source": [
    "# Locks the bot so we can't edit it anymore\n",
    "\n",
    "recha.read_only = True\n",
    "print(recha.read_only)"
   ]
  },
  {
   "cell_type": "code",
   "execution_count": 149,
   "metadata": {
    "collapsed": true
   },
   "outputs": [],
   "source": [
    "# Arbitrarily chosen conversation starters\n",
    "\n",
    "conversation_starter = [\n",
    "    \"Hello, I hope you are having a great day.\",\n",
    "    \"The weather looks great today. I hope it stays the same way.\",\n",
    "    \"Why are you looking at me this way, good sir?\",\n",
    "    \"You seem to have bad intentions. Please stop.\",\n",
    "    \"This is a bad day for you. Prepare to die!\"\n",
    "]"
   ]
  },
  {
   "cell_type": "code",
   "execution_count": 190,
   "metadata": {
    "collapsed": false
   },
   "outputs": [
    {
     "name": "stdout",
     "output_type": "stream",
     "text": [
      "Cleverbot: November.\n",
      "\n"
     ]
    }
   ],
   "source": [
    "# List to store the conversation\n",
    "conversation_record = []\n",
    "\n",
    "# Initialize the conversation with cleverbot\n",
    "cleverbot_response, cleverbot_state,res_json = interact_cleverbot(\"\")\n",
    "\n",
    "print(\"Cleverbot:\", cleverbot_response)\n",
    "print()\n",
    "\n",
    "conversation_record.append((1,'cleverbot',cleverbot_response))"
   ]
  },
  {
   "cell_type": "code",
   "execution_count": 164,
   "metadata": {
    "collapsed": true
   },
   "outputs": [
    {
     "name": "stdout",
     "output_type": "stream",
     "text": [
      "Recha:  No I don't.\n",
      "Cleverbot:  Yes you do.\n",
      "\n",
      "Recha:  No i am as happy as ever.\n",
      "Cleverbot:  Oh that''s good! Being happy is good for the soul.\n",
      "\n",
      "Recha:  Yes it is.\n",
      "Cleverbot:  No, it's not.\n",
      "\n",
      "Recha:  That is a hypothetical question\n",
      "Cleverbot:  I don't know what that means but yes.\n",
      "\n",
      "Recha:  The current time is 11:36 PM\n",
      "Cleverbot:  No it is 9:09.\n",
      "\n",
      "Recha:  That is a hypothetical question\n",
      "Cleverbot:  You're right. You're very smart :).\n",
      "\n",
      "Recha:  Are you sad\n",
      "Cleverbot:  A bit..\n",
      "\n",
      "Recha:  Can I help you with anything?\n",
      "Cleverbot:  What is the meaning of life?\n",
      "\n",
      "Recha:  is a literary reference to the illuminatus.\n",
      "Cleverbot:  Do you have any pictures of yourself?\n",
      "\n",
      "Recha:  I don't have any brothers. but I have a lot of clones.\n",
      "Cleverbot:  What's it like to have sisters.\n",
      "\n"
     ]
    }
   ],
   "source": [
    "for interaction in range(2,12):\n",
    "    \n",
    "    recha_response = recha.get_response(cleverbot_response).text\n",
    "    cleverbot_response, _, _ = interact_cleverbot(recha_response, cleverbot_state)\n",
    "    \n",
    "    print(\"Recha: \", recha_response)\n",
    "    print(\"Cleverbot: \", cleverbot_response)\n",
    "    print()\n",
    "    \n",
    "    conversation_record.append((interaction,'recha',recha_response))\n",
    "    conversation_record.append((interaction,'cleverbot',cleverbot_response))"
   ]
  },
  {
   "cell_type": "code",
   "execution_count": 187,
   "metadata": {
    "collapsed": false
   },
   "outputs": [],
   "source": [
    "with open(\"cleverbot_recha_interaction.csv\",'w',newline='') as csvfile:\n",
    "    recordwriter = csv.writer(csvfile)\n",
    "    for record in conversation_record:\n",
    "        recordwriter.writerow(record)"
   ]
  },
  {
   "cell_type": "code",
   "execution_count": null,
   "metadata": {
    "collapsed": true
   },
   "outputs": [],
   "source": []
  }
 ],
 "metadata": {
  "kernelspec": {
   "display_name": "Python 3",
   "language": "python",
   "name": "python3"
  },
  "language_info": {
   "codemirror_mode": {
    "name": "ipython",
    "version": 3
   },
   "file_extension": ".py",
   "mimetype": "text/x-python",
   "name": "python",
   "nbconvert_exporter": "python",
   "pygments_lexer": "ipython3",
   "version": "3.6.0"
  }
 },
 "nbformat": 4,
 "nbformat_minor": 2
}
