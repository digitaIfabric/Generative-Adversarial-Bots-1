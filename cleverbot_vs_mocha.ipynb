{
 "cells": [
  {
   "cell_type": "code",
   "execution_count": 1,
   "metadata": {
    "collapsed": true
   },
   "outputs": [],
   "source": [
    "import csv\n",
    "import requests\n",
    "from chatterbot import ChatBot\n",
    "from chatterbot.trainers import ListTrainer"
   ]
  },
  {
   "cell_type": "code",
   "execution_count": 13,
   "metadata": {
    "collapsed": true
   },
   "outputs": [],
   "source": [
    "training_mocha = True"
   ]
  },
  {
   "cell_type": "code",
   "execution_count": 2,
   "metadata": {
    "collapsed": true
   },
   "outputs": [],
   "source": [
    "def interact_cleverbot(text_input, cleverbot_state=\"\"):\n",
    "    api_key = \"CC4qruTTaiN1tTMKWM4VYhuuc4w\"\n",
    "    link = \"http://www.cleverbot.com/getreply?key={}&input={}&cs={}\".format(api_key, text_input, cleverbot_state)\n",
    "    response = requests.get(link)\n",
    "\n",
    "    res_json = response.json()  # Just like a Python dictionary\n",
    "    new_cs = res_json['cs']\n",
    "    output = res_json['output']\n",
    "    \n",
    "    return output, new_cs, res_json"
   ]
  },
  {
   "cell_type": "code",
   "execution_count": 3,
   "metadata": {
    "collapsed": false
   },
   "outputs": [
    {
     "name": "stdout",
     "output_type": "stream",
     "text": [
      "Original length of movie data: 304713\n"
     ]
    }
   ],
   "source": [
    "with open('movie_lines.txt','r') as file:\n",
    "    raw_movie_data = file.readlines()\n",
    "\n",
    "print(\"Original length of movie data:\",len(raw_movie_data))"
   ]
  },
  {
   "cell_type": "code",
   "execution_count": 4,
   "metadata": {
    "collapsed": false
   },
   "outputs": [],
   "source": [
    "# Cleaning up the raw data\n",
    "\n",
    "movie_data = []\n",
    "\n",
    "for line_raw in raw_movie_data:\n",
    "    line_list = line_raw.split(\"\\n\")[0].split(\"+++$+++\")\n",
    "    movie_data.append(line_list[3:])"
   ]
  },
  {
   "cell_type": "code",
   "execution_count": 5,
   "metadata": {
    "collapsed": false
   },
   "outputs": [
    {
     "name": "stdout",
     "output_type": "stream",
     "text": [
      "New length of data: 269955\n"
     ]
    }
   ],
   "source": [
    "# Here we are removing the repetitions\n",
    "\n",
    "previous_name = None\n",
    "line_number = 0\n",
    "\n",
    "while line_number < len(movie_data):\n",
    "    current_name, dialogue = movie_data[line_number]\n",
    "    \n",
    "    if current_name == previous_name:\n",
    "        movie_data[line_number-1][1] += \"\\n\" + movie_data.pop(line_number)[1]\n",
    "        line_number -= 1\n",
    "                \n",
    "    previous_name = current_name\n",
    "    line_number += 1\n",
    "\n",
    "print(\"New length of data:\",len(movie_data))"
   ]
  },
  {
   "cell_type": "code",
   "execution_count": 6,
   "metadata": {
    "collapsed": true
   },
   "outputs": [],
   "source": [
    "dialogue_list = [line[1] for line in movie_data]"
   ]
  },
  {
   "cell_type": "code",
   "execution_count": 7,
   "metadata": {
    "collapsed": true
   },
   "outputs": [],
   "source": [
    "# Initialize a movie chatterbot\n",
    "movie_chatterbot = ChatBot(\n",
    "    \"Movie\",\n",
    "    storage_adapter='chatterbot.storage.SQLStorageAdapter',\n",
    "    logic_adapters=[\n",
    "        \"chatterbot.logic.MathematicalEvaluation\",\n",
    "        \"chatterbot.logic.TimeLogicAdapter\",\n",
    "        \"chatterbot.logic.BestMatch\"\n",
    "    ],\n",
    "    database='./movie_database.sqlite3'    \n",
    ")\n",
    "\n",
    "mocha = movie_chatterbot  # Giving a friendly-sounding alias"
   ]
  },
  {
   "cell_type": "code",
   "execution_count": 8,
   "metadata": {
    "collapsed": false
   },
   "outputs": [
    {
     "name": "stdout",
     "output_type": "stream",
     "text": [
      "List Trainer: [####################] 100%\n"
     ]
    }
   ],
   "source": [
    "if training_mocha:\n",
    "    mocha.set_trainer(ListTrainer)\n",
    "    mocha.train(dialogue_list[:20000])"
   ]
  },
  {
   "cell_type": "code",
   "execution_count": 9,
   "metadata": {
    "collapsed": false
   },
   "outputs": [
    {
     "name": "stdout",
     "output_type": "stream",
     "text": [
      "True\n"
     ]
    }
   ],
   "source": [
    "mocha.read_only = True\n",
    "print(mocha.read_only)"
   ]
  },
  {
   "cell_type": "code",
   "execution_count": 10,
   "metadata": {
    "collapsed": true
   },
   "outputs": [],
   "source": [
    "# List to store the conversation\n",
    "conversation_record = []\n",
    "\n",
    "# Initialize the conversation with cleverbot\n",
    "mocha_response = \"\"\n",
    "cleverbot_state = \"\""
   ]
  },
  {
   "cell_type": "code",
   "execution_count": 11,
   "metadata": {
    "collapsed": true
   },
   "outputs": [
    {
     "name": "stdout",
     "output_type": "stream",
     "text": [
      "Cleverbot:  I'd like to think so.\n",
      "Mocha:   Why is my veggie burger the only burnt object on this grill?\n",
      "\n",
      "Cleverbot:  I am not a chat bot sir.\n",
      "Mocha:   I want to go to an East Coast school! I want you to trust me to make my own choices.  I want --\n",
      "\n",
      "Cleverbot:  Your logic is flawed sentient being. You should educate yourself in conscience thought!\n",
      "Mocha:   The thing is, Cameron -- I'm at the mercy of a particularly hideous breed of loser.  My sister.  I can't date until she does.\n",
      "\n",
      "Cleverbot:  Do you like Torture Killer?\n",
      "Mocha:   She's partial to Joey, not me\n",
      "\n",
      "Cleverbot:  Ohh okay, but games are nice.\n",
      "Mocha:   You went to the party?  I thought we were officially opposed to suburban social activity.\n",
      "\n",
      "Cleverbot:  I can only go to Paris with you if you take your computer.\n",
      "Mocha:   Why didn't you tell me?\n",
      "\n",
      "Cleverbot:  Because I thought you knew.\n",
      "Mocha:  The current time is 07:48 AM\n",
      "\n",
      "Cleverbot:  What time zone are you in?\n",
      "Mocha:  The current time is 07:48 AM\n",
      "\n",
      "Cleverbot:  You want to go to the mall right now?!!?!?\n",
      "Mocha:  The current time is 07:48 AM\n",
      "\n",
      "Cleverbot:  Where are you located?\n",
      "Mocha:   Hey.\n",
      "\n",
      "Cleverbot:  Listen to me.\n",
      "Mocha:   Listen, I know you hate having to sit home because I'm not Susie High School.\n",
      " You're welcome.\n",
      "\n"
     ]
    }
   ],
   "source": [
    "for interaction in range(1,101):\n",
    "    cleverbot_response, cleverbot_state, res_json = interact_cleverbot(mocha_response, cleverbot_state)\n",
    "    mocha_response = mocha.get_response(cleverbot_response).text\n",
    "    \n",
    "    print(\"Cleverbot: \", cleverbot_response)\n",
    "    print(\"Mocha: \", mocha_response)    \n",
    "    print()\n",
    "    \n",
    "    conversation_record.append((interaction,'cleverbot',cleverbot_response))\n",
    "    conversation_record.append((interaction,'mocha',mocha_response))    "
   ]
  },
  {
   "cell_type": "code",
   "execution_count": 12,
   "metadata": {
    "collapsed": true
   },
   "outputs": [],
   "source": [
    "with open(\"cleverbot_mocha_interactions.csv\",'w',newline='') as csvfile:\n",
    "    recordwriter = csv.writer(csvfile)\n",
    "    for record in conversation_record:\n",
    "        recordwriter.writerow(record)"
   ]
  },
  {
   "cell_type": "code",
   "execution_count": null,
   "metadata": {
    "collapsed": true
   },
   "outputs": [],
   "source": []
  }
 ],
 "metadata": {
  "kernelspec": {
   "display_name": "Python 3",
   "language": "python",
   "name": "python3"
  },
  "language_info": {
   "codemirror_mode": {
    "name": "ipython",
    "version": 3
   },
   "file_extension": ".py",
   "mimetype": "text/x-python",
   "name": "python",
   "nbconvert_exporter": "python",
   "pygments_lexer": "ipython3",
   "version": "3.6.0"
  }
 },
 "nbformat": 4,
 "nbformat_minor": 2
}
